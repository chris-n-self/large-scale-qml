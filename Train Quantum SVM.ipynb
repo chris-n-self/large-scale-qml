{
 "cells": [
  {
   "cell_type": "markdown",
   "metadata": {},
   "source": [
    "## Large-scale quantum machine learning\n",
    "Supervised learning of datasets with quantum kernels by IBM quantum computer.\n",
    "Companion script to \"Large-scale quantum machine learning\" (https://arxiv.org/abs/2108.01039) by Tobias Haug, Chris N. Self and M.S. Kim.\n",
    "To get quantum kernels, run scripts as detailed in readme or use provided pre-processed data.\n",
    "The data used in the manuscript is available from https://doi.org/10.5281/zenodo.5211695.\n",
    "The kernels are used to train a support vector machine (SVM) that classifies unseen testdata using labeled training data.\n"
   ]
  },
  {
   "cell_type": "code",
   "execution_count": 1,
   "metadata": {},
   "outputs": [],
   "source": [
    "import numpy as np\n",
    "from sklearn.model_selection import train_test_split\n",
    "from sklearn import svm\n",
    "import os"
   ]
  },
  {
   "cell_type": "code",
   "execution_count": 2,
   "metadata": {},
   "outputs": [],
   "source": [
    "def train_gram(y_train,y_test,gram_train,gram_test,regularizationC=1):\n",
    "    \"\"\"\n",
    "    Train using a given labels and kernels and evaluate results.\n",
    "    Uses Support vector machines to learn from data.\n",
    "    \n",
    "    y_train: Training labels\n",
    "    y_test: Test labels\n",
    "    gram_train: Kernel of training data\n",
    "    gram_test: Kernel of test data\n",
    "    regularizationC: Regularization parameter\n",
    "    \n",
    "    Return:\n",
    "    accuracy_train: Accuracy predicting labels of training dataset\n",
    "    accuracy_test: Accuracy predicting labels of test dataset\n",
    "    \"\"\"\n",
    "    clf_gaussian = svm.SVC(kernel='precomputed',C=regularizationC,probability=True)\n",
    "    clf_gaussian.fit(gram_train, y_train)\n",
    "\n",
    "    y_pred_test=clf_gaussian.predict(gram_test)\n",
    "    \n",
    "    y_pred_train=clf_gaussian.predict(gram_train)\n",
    "\n",
    "    wrong_index_train=np.nonzero(np.abs(y_train-y_pred_train))[0]\n",
    "    wrong_index_test=np.nonzero(np.abs(y_test-y_pred_test))[0]\n",
    "    \n",
    "    accuracy_train=1-len(wrong_index_train)/len(y_train)\n",
    "    accuracy_test=1-len(wrong_index_test)/len(y_test)\n",
    "    return accuracy_train,accuracy_test\n",
    "\n",
    "\n",
    "def error_mitigation(kernel_matrix):\n",
    "    \"\"\"\n",
    "    Mitigate error of quantum kernel calculated via randomized measurements.\n",
    "    Assumes depolarizing model.\n",
    "    \n",
    "    kernel_matrix: Quantum kernel as calculated by randomized measurements\n",
    "    \n",
    "    kernel_matrix_mitigated: Mitigated quantum kernel\n",
    "    \n",
    "    \"\"\"\n",
    "    dataset_size=np.shape(kernel_matrix)[0]\n",
    "    kernel_matrix_mitigated=np.zeros([dataset_size,dataset_size])\n",
    "    for rep in range(dataset_size):\n",
    "        for rep2 in range(dataset_size):\n",
    "            kernel_matrix_mitigated[rep,rep2]=kernel_matrix[rep,rep2]/np.sqrt(kernel_matrix[rep,rep]*kernel_matrix[rep2,rep2])\n",
    "    return kernel_matrix_mitigated\n",
    "    \n",
    "\n",
    "def rbf_kernel(dataset,gamma=0.25):\n",
    "    \"\"\"\n",
    "    classical radial basis function kernel between data1 and data2 exp(-gamma*(data1-data2)**2)\n",
    "    \n",
    "    dataset: Matrix containing features of dataset\n",
    "    \n",
    "    \n",
    "    gram_matrix: resulting rbf kernel \n",
    "    \"\"\"\n",
    "    \n",
    "    \n",
    "    nData=len(dataset)\n",
    "    gram_matrix=np.zeros([nData,nData])\n",
    "    for i in range(nData):\n",
    "        for j in range(nData):\n",
    "            gram_matrix[i,j]=np.exp(-gamma*np.sum(np.abs(dataset[i]-dataset[j])**2))\n",
    "    return gram_matrix\n",
    "\n"
   ]
  },
  {
   "cell_type": "code",
   "execution_count": 3,
   "metadata": {},
   "outputs": [
    {
     "name": "stdout",
     "output_type": "stream",
     "text": [
      "Load features, labels and kernel with a size of 1790\n"
     ]
    }
   ],
   "source": [
    "#main_path=os.path.join(\"studies\",\"handwriting-all-digits\",\"YZ\",\"results\",\"processed\",\"raw\")\n",
    "#label_file=\"y-ibmq_guadalupe,n_qubits8,depth10,n_shots8192,n_unitaries8,crossfid_modeRzRy.csv\"\n",
    "#feature_file=\"X-ibmq_guadalupe,n_qubits8,depth10,n_shots8192,n_unitaries8,crossfid_modeRzRy.csv\"\n",
    "#kernel_file=\"GramMatrix-ibmq_guadalupe,n_qubits8,depth10,n_shots8192,n_unitaries8,crossfid_modeRzRy.csv\"\n",
    "\n",
    "main_path=os.path.join(\"studies\",\"handwriting-all-digits\",\"NPQC\",\"results\",\"processed\",\"raw\")\n",
    "label_file=\"y-ibmq_guadalupe,n_qubits8,depth8,n_shots8192,n_unitaries8,crossfid_modeRzRy_custom.csv\"\n",
    "feature_file=\"X-ibmq_guadalupe,n_qubits8,depth8,n_shots8192,n_unitaries8,crossfid_modeRzRy_custom.csv\"\n",
    "kernel_file=\"GramMatrix-ibmq_guadalupe,n_qubits8,depth8,n_shots8192,n_unitaries8,crossfid_modeRzRy_custom.csv\"\n",
    "\n",
    "\n",
    "\n",
    "\n",
    "label_data=np.loadtxt(os.path.join(main_path,label_file),delimiter=\",\")\n",
    "feature_data=np.loadtxt(os.path.join(main_path,feature_file),delimiter=\",\")\n",
    "quantum_kernel_data=np.loadtxt(os.path.join(main_path,kernel_file),delimiter=\",\")\n",
    "\n",
    "#unmitigated kernel\n",
    "quantum_kernel_unmitigated=quantum_kernel_data\n",
    "\n",
    "#mitigate quantum kernel\n",
    "quantum_kernel_mitigated=error_mitigation(quantum_kernel_unmitigated)\n",
    "\n",
    "#get classical rbf kernel as reference\n",
    "rbf_kernel_data=rbf_kernel(feature_data)\n",
    "\n",
    "dataset_size=len(label_data)\n",
    "\n",
    "print(\"Load features, labels and kernel with a size of\",dataset_size)\n",
    "\n"
   ]
  },
  {
   "cell_type": "markdown",
   "metadata": {},
   "source": [
    "Given the kernel, we now randomly draw part of it as test and training data to evaluate how well the kernel can learn the data.\n",
    "Define the size of the test and training dataset, and how often to repeat the training with randomly drawn data."
   ]
  },
  {
   "cell_type": "code",
   "execution_count": 4,
   "metadata": {},
   "outputs": [],
   "source": [
    "#number of test data and training data\n",
    "#randomly shuffle dataset and randomly assign test and training data\n",
    "n_test=200 #size of test data\n",
    "n_train=800 #size of training data\n",
    "n_shuffle_data=10 #randomize training and test data for n_shuffle_data times\n",
    "\n",
    "regularizationC=1 #regularization for SVM training"
   ]
  },
  {
   "cell_type": "markdown",
   "metadata": {},
   "source": [
    "Do training of SMV with data"
   ]
  },
  {
   "cell_type": "code",
   "execution_count": 5,
   "metadata": {},
   "outputs": [
    {
     "name": "stdout",
     "output_type": "stream",
     "text": [
      "Training with 800 datapoints, testing with 200 datapoints, randomly draw data 10 times\n",
      "Finished Training SVM\n"
     ]
    }
   ],
   "source": [
    "print(\"Training with\",n_train,\"datapoints, testing with\",n_test,\"datapoints, randomly draw data\",n_shuffle_data,\"times\")\n",
    "\n",
    "if(n_test+n_train>dataset_size):\n",
    "    raise NameError(\"Loaded dataset is smaller than size of training and test data\")\n",
    "\n",
    "stratify=label_data #stratify to assign data such that each label has equal probability\n",
    "full_range=np.arange(dataset_size)\n",
    "\n",
    "random_seed_select=0 #seed for random selection of data\n",
    "\n",
    "accuracy_train_quantum_mitigated=np.zeros(n_shuffle_data)\n",
    "accuracy_train_quantum_unmitigated=np.zeros(n_shuffle_data)\n",
    "accuracy_train_rbf=np.zeros(n_shuffle_data)\n",
    "\n",
    "accuracy_test_quantum_mitigated=np.zeros(n_shuffle_data)\n",
    "accuracy_test_quantum_unmitigated=np.zeros(n_shuffle_data)\n",
    "accuracy_test_rbf=np.zeros(n_shuffle_data)\n",
    "\n",
    "for rep_training in range(n_shuffle_data):\n",
    "    \n",
    "    #randomly draw subset of data as training and test dataset\n",
    "    X_train_select , X_test_select , y_train_select, y_test_select,index_train,index_test = \\\n",
    "        train_test_split(feature_data, label_data, full_range,train_size = n_train,test_size = n_test, random_state = random_seed_select,stratify=stratify)\n",
    "    \n",
    "    \n",
    "    #train SVM with mitigated quantum kernel\n",
    "    gram_train_select=quantum_kernel_mitigated[index_train,:][:,index_train]\n",
    "    gram_test_select=quantum_kernel_mitigated[index_test,:][:,index_train]\n",
    "    accuracy_train,accuracy_test=train_gram(y_train_select,y_test_select,gram_train_select,gram_test_select,regularizationC=regularizationC)\n",
    "    accuracy_train_quantum_mitigated[rep_training]=accuracy_train\n",
    "    accuracy_test_quantum_mitigated[rep_training]=accuracy_test\n",
    "\n",
    "    \n",
    "    #train SVM with ubmitigated quantum kernel\n",
    "    gram_train_select=quantum_kernel_unmitigated[index_train,:][:,index_train]\n",
    "    gram_test_select=quantum_kernel_unmitigated[index_test,:][:,index_train]\n",
    "    accuracy_train,accuracy_test=train_gram(y_train_select,y_test_select,gram_train_select,gram_test_select,regularizationC=regularizationC)\n",
    "    accuracy_train_quantum_unmitigated[rep_training]=accuracy_train\n",
    "    accuracy_test_quantum_unmitigated[rep_training]=accuracy_test\n",
    "\n",
    "    \n",
    "    #train SVM with classical rbf kernel\n",
    "    gram_train_select=rbf_kernel_data[index_train,:][:,index_train]\n",
    "    gram_test_select=rbf_kernel_data[index_test,:][:,index_train]\n",
    "    accuracy_train,accuracy_test=train_gram(y_train_select,y_test_select,gram_train_select,gram_test_select,regularizationC=regularizationC)\n",
    "    accuracy_train_rbf[rep_training]=accuracy_train\n",
    "    accuracy_test_rbf[rep_training]=accuracy_test\n",
    "\n",
    "    \n",
    "    \n",
    "    random_seed_select+=1 #change seed for data selection\n",
    "    \n",
    "    \n",
    "print(\"Finished Training SVM\")"
   ]
  },
  {
   "cell_type": "code",
   "execution_count": 6,
   "metadata": {},
   "outputs": [
    {
     "name": "stdout",
     "output_type": "stream",
     "text": [
      "Training accuracy mitigated quantum kernel 0.9686250000000001 ± 0.005574775780244413\n",
      "Training accuracy unmitigated quantum kernel 0.9247500000000001 ± 0.008474225628339127\n",
      "Training accuracy classical rbf kernel 0.982375 ± 0.003184434800714267\n"
     ]
    }
   ],
   "source": [
    "print(\"Training accuracy mitigated quantum kernel\",np.mean(accuracy_train_quantum_mitigated),\"±\",np.std(accuracy_train_quantum_mitigated))\n",
    "\n",
    "print(\"Training accuracy unmitigated quantum kernel\",np.mean(accuracy_train_quantum_unmitigated),\"±\",np.std(accuracy_train_quantum_unmitigated))\n",
    "\n",
    "print(\"Training accuracy classical rbf kernel\",np.mean(accuracy_train_rbf),\"±\",np.std(accuracy_train_rbf))\n",
    "\n"
   ]
  },
  {
   "cell_type": "code",
   "execution_count": 7,
   "metadata": {},
   "outputs": [
    {
     "name": "stdout",
     "output_type": "stream",
     "text": [
      "Test accuracy mitigated quantum kernel 0.9274999999999999 ± 0.019137659209004617\n",
      "Test accuracy unmitigated quantum kernel 0.885 ± 0.020248456731316606\n",
      "Test accuracy classical rbf kernel 0.9594999999999999 ± 0.01863464515358422\n"
     ]
    }
   ],
   "source": [
    "print(\"Test accuracy mitigated quantum kernel\",np.mean(accuracy_test_quantum_mitigated),\"±\",np.std(accuracy_test_quantum_mitigated))\n",
    "\n",
    "print(\"Test accuracy unmitigated quantum kernel\",np.mean(accuracy_test_quantum_unmitigated),\"±\",np.std(accuracy_test_quantum_unmitigated))\n",
    "\n",
    "print(\"Test accuracy classical rbf kernel\",np.mean(accuracy_test_rbf),\"±\",np.std(accuracy_test_rbf))\n",
    "\n",
    "\n"
   ]
  },
  {
   "cell_type": "code",
   "execution_count": null,
   "metadata": {},
   "outputs": [],
   "source": []
  }
 ],
 "metadata": {
  "kernelspec": {
   "display_name": "Python 3",
   "language": "python",
   "name": "python3"
  },
  "language_info": {
   "codemirror_mode": {
    "name": "ipython",
    "version": 3
   },
   "file_extension": ".py",
   "mimetype": "text/x-python",
   "name": "python",
   "nbconvert_exporter": "python",
   "pygments_lexer": "ipython3",
   "version": "3.6.7"
  }
 },
 "nbformat": 4,
 "nbformat_minor": 2
}
